{
 "cells": [
  {
   "cell_type": "markdown",
   "metadata": {
    "id": "CcUT6Fon_qRE"
   },
   "source": [
    "### Required Assignment 5.1: Will the Customer Accept the Coupon?\n",
    "\n",
    "**Context**\n",
    "\n",
    "Imagine driving through town and a coupon is delivered to your cell phone for a restaurant near where you are driving. Would you accept that coupon and take a short detour to the restaurant? Would you accept the coupon but use it on a subsequent trip? Would you ignore the coupon entirely? What if the coupon was for a bar instead of a restaurant? What about a coffee house? Would you accept a bar coupon with a minor passenger in the car? What about if it was just you and your partner in the car? Would weather impact the rate of acceptance? What about the time of day?\n",
    "\n",
    "Obviously, proximity to the business is a factor on whether the coupon is delivered to the driver or not, but what are the factors that determine whether a driver accepts the coupon once it is delivered to them? How would you determine whether a driver is likely to accept a coupon?\n",
    "\n",
    "**Overview**\n",
    "\n",
    "The goal of this project is to use what you know about visualizations and probability distributions to distinguish between customers who accepted a driving coupon versus those that did not.\n",
    "\n",
    "**Data**\n",
    "\n",
    "This data comes to us from the UCI Machine Learning repository and was collected via a survey on Amazon Mechanical Turk. The survey describes different driving scenarios including the destination, current time, weather, passenger, etc., and then ask the person whether he will accept the coupon if he is the driver. Answers that the user will drive there ‘right away’ or ‘later before the coupon expires’ are labeled as ‘Y = 1’ and answers ‘no, I do not want the coupon’ are labeled as ‘Y = 0’.  There are five different types of coupons -- less expensive restaurants (under \\$20), coffee houses, carry out & take away, bar, and more expensive restaurants (\\$20 - $50)."
   ]
  },
  {
   "cell_type": "markdown",
   "metadata": {
    "id": "1wORvMBJ_qRF"
   },
   "source": [
    "**Deliverables**\n",
    "\n",
    "Your final product should be a brief report that highlights the differences between customers who did and did not accept the coupons.  To explore the data you will utilize your knowledge of plotting, statistical summaries, and visualization using Python. You will publish your findings in a public facing github repository as your first portfolio piece.\n",
    "\n",
    "\n",
    "\n"
   ]
  },
  {
   "cell_type": "markdown",
   "metadata": {
    "id": "pG6_Ym6q_qRG"
   },
   "source": [
    "### Data Description\n",
    "Keep in mind that these values mentioned below are average values.\n",
    "\n",
    "The attributes of this data set include:\n",
    "1. User attributes\n",
    "    -  Gender: male, female\n",
    "    -  Age: below 21, 21 to 25, 26 to 30, etc.\n",
    "    -  Marital Status: single, married partner, unmarried partner, or widowed\n",
    "    -  Number of children: 0, 1, or more than 1\n",
    "    -  Education: high school, bachelors degree, associates degree, or graduate degree\n",
    "    -  Occupation: architecture & engineering, business & financial, etc.\n",
    "    -  Annual income: less than \\\\$12500, \\\\$12500 - \\\\$24999, \\\\$25000 - \\\\$37499, etc.\n",
    "    -  Number of times that he/she goes to a bar: 0, less than 1, 1 to 3, 4 to 8 or greater than 8\n",
    "    -  Number of times that he/she buys takeaway food: 0, less than 1, 1 to 3, 4 to 8 or greater\n",
    "    than 8\n",
    "    -  Number of times that he/she goes to a coffee house: 0, less than 1, 1 to 3, 4 to 8 or\n",
    "    greater than 8\n",
    "    -  Number of times that he/she eats at a restaurant with average expense less than \\\\$20 per\n",
    "    person: 0, less than 1, 1 to 3, 4 to 8 or greater than 8\n",
    "    -  Number of times that he/she goes to a bar: 0, less than 1, 1 to 3, 4 to 8 or greater than 8\n",
    "    \n",
    "\n",
    "2. Contextual attributes\n",
    "    - Driving destination: home, work, or no urgent destination\n",
    "    - Location of user, coupon and destination: we provide a map to show the geographical\n",
    "    location of the user, destination, and the venue, and we mark the distance between each\n",
    "    two places with time of driving. The user can see whether the venue is in the same\n",
    "    direction as the destination.\n",
    "    - Weather: sunny, rainy, or snowy\n",
    "    - Temperature: 30F, 55F, or 80F\n",
    "    - Time: 10AM, 2PM, or 6PM\n",
    "    - Passenger: alone, partner, kid(s), or friend(s)\n",
    "\n",
    "\n",
    "3. Coupon attributes\n",
    "    - time before it expires: 2 hours or one day"
   ]
  },
  {
   "cell_type": "code",
   "execution_count": 745,
   "metadata": {
    "id": "dzNoP3o__qRG"
   },
   "outputs": [],
   "source": [
    "import plotly.express as px\n",
    "import matplotlib.pyplot as plt\n",
    "import seaborn as sns\n",
    "import pandas as pd\n",
    "import numpy as np"
   ]
  },
  {
   "cell_type": "markdown",
   "metadata": {
    "id": "Ct8pI1uE_qRG"
   },
   "source": [
    "### Problems\n",
    "\n",
    "Use the prompts below to get started with your data analysis.  \n",
    "\n",
    "1. Read in the `coupons.csv` file.\n",
    "\n",
    "\n"
   ]
  },
  {
   "cell_type": "code",
   "execution_count": 747,
   "metadata": {
    "id": "X0vbffYg_qRH"
   },
   "outputs": [],
   "source": [
    "data = pd.read_csv('data/coupons.csv')"
   ]
  },
  {
   "cell_type": "code",
   "execution_count": 748,
   "metadata": {
    "id": "TXofQ_DF_qRH",
    "outputId": "2fc96a2c-1112-4b54-f24f-dbb9bc88abfb"
   },
   "outputs": [
    {
     "data": {
      "text/html": [
       "<div>\n",
       "<style scoped>\n",
       "    .dataframe tbody tr th:only-of-type {\n",
       "        vertical-align: middle;\n",
       "    }\n",
       "\n",
       "    .dataframe tbody tr th {\n",
       "        vertical-align: top;\n",
       "    }\n",
       "\n",
       "    .dataframe thead th {\n",
       "        text-align: right;\n",
       "    }\n",
       "</style>\n",
       "<table border=\"1\" class=\"dataframe\">\n",
       "  <thead>\n",
       "    <tr style=\"text-align: right;\">\n",
       "      <th></th>\n",
       "      <th>destination</th>\n",
       "      <th>passanger</th>\n",
       "      <th>weather</th>\n",
       "      <th>temperature</th>\n",
       "      <th>time</th>\n",
       "      <th>coupon</th>\n",
       "      <th>expiration</th>\n",
       "      <th>gender</th>\n",
       "      <th>age</th>\n",
       "      <th>maritalStatus</th>\n",
       "      <th>...</th>\n",
       "      <th>CoffeeHouse</th>\n",
       "      <th>CarryAway</th>\n",
       "      <th>RestaurantLessThan20</th>\n",
       "      <th>Restaurant20To50</th>\n",
       "      <th>toCoupon_GEQ5min</th>\n",
       "      <th>toCoupon_GEQ15min</th>\n",
       "      <th>toCoupon_GEQ25min</th>\n",
       "      <th>direction_same</th>\n",
       "      <th>direction_opp</th>\n",
       "      <th>Y</th>\n",
       "    </tr>\n",
       "  </thead>\n",
       "  <tbody>\n",
       "    <tr>\n",
       "      <th>7169</th>\n",
       "      <td>Work</td>\n",
       "      <td>Alone</td>\n",
       "      <td>Rainy</td>\n",
       "      <td>55</td>\n",
       "      <td>7AM</td>\n",
       "      <td>Restaurant(&lt;20)</td>\n",
       "      <td>2h</td>\n",
       "      <td>Male</td>\n",
       "      <td>31</td>\n",
       "      <td>Married partner</td>\n",
       "      <td>...</td>\n",
       "      <td>never</td>\n",
       "      <td>4~8</td>\n",
       "      <td>4~8</td>\n",
       "      <td>1~3</td>\n",
       "      <td>1</td>\n",
       "      <td>1</td>\n",
       "      <td>1</td>\n",
       "      <td>0</td>\n",
       "      <td>1</td>\n",
       "      <td>1</td>\n",
       "    </tr>\n",
       "    <tr>\n",
       "      <th>9771</th>\n",
       "      <td>Work</td>\n",
       "      <td>Alone</td>\n",
       "      <td>Rainy</td>\n",
       "      <td>55</td>\n",
       "      <td>7AM</td>\n",
       "      <td>Bar</td>\n",
       "      <td>1d</td>\n",
       "      <td>Female</td>\n",
       "      <td>50plus</td>\n",
       "      <td>Married partner</td>\n",
       "      <td>...</td>\n",
       "      <td>less1</td>\n",
       "      <td>4~8</td>\n",
       "      <td>1~3</td>\n",
       "      <td>1~3</td>\n",
       "      <td>1</td>\n",
       "      <td>1</td>\n",
       "      <td>1</td>\n",
       "      <td>0</td>\n",
       "      <td>1</td>\n",
       "      <td>0</td>\n",
       "    </tr>\n",
       "    <tr>\n",
       "      <th>9066</th>\n",
       "      <td>No Urgent Place</td>\n",
       "      <td>Alone</td>\n",
       "      <td>Sunny</td>\n",
       "      <td>80</td>\n",
       "      <td>10AM</td>\n",
       "      <td>Coffee House</td>\n",
       "      <td>2h</td>\n",
       "      <td>Female</td>\n",
       "      <td>26</td>\n",
       "      <td>Married partner</td>\n",
       "      <td>...</td>\n",
       "      <td>1~3</td>\n",
       "      <td>4~8</td>\n",
       "      <td>4~8</td>\n",
       "      <td>less1</td>\n",
       "      <td>1</td>\n",
       "      <td>1</td>\n",
       "      <td>0</td>\n",
       "      <td>0</td>\n",
       "      <td>1</td>\n",
       "      <td>1</td>\n",
       "    </tr>\n",
       "    <tr>\n",
       "      <th>9412</th>\n",
       "      <td>Home</td>\n",
       "      <td>Alone</td>\n",
       "      <td>Sunny</td>\n",
       "      <td>30</td>\n",
       "      <td>6PM</td>\n",
       "      <td>Restaurant(20-50)</td>\n",
       "      <td>1d</td>\n",
       "      <td>Female</td>\n",
       "      <td>50plus</td>\n",
       "      <td>Divorced</td>\n",
       "      <td>...</td>\n",
       "      <td>never</td>\n",
       "      <td>4~8</td>\n",
       "      <td>1~3</td>\n",
       "      <td>less1</td>\n",
       "      <td>1</td>\n",
       "      <td>0</td>\n",
       "      <td>0</td>\n",
       "      <td>1</td>\n",
       "      <td>0</td>\n",
       "      <td>0</td>\n",
       "    </tr>\n",
       "    <tr>\n",
       "      <th>8124</th>\n",
       "      <td>No Urgent Place</td>\n",
       "      <td>Alone</td>\n",
       "      <td>Sunny</td>\n",
       "      <td>80</td>\n",
       "      <td>10AM</td>\n",
       "      <td>Coffee House</td>\n",
       "      <td>1d</td>\n",
       "      <td>Male</td>\n",
       "      <td>31</td>\n",
       "      <td>Single</td>\n",
       "      <td>...</td>\n",
       "      <td>never</td>\n",
       "      <td>gt8</td>\n",
       "      <td>1~3</td>\n",
       "      <td>never</td>\n",
       "      <td>1</td>\n",
       "      <td>1</td>\n",
       "      <td>0</td>\n",
       "      <td>0</td>\n",
       "      <td>1</td>\n",
       "      <td>0</td>\n",
       "    </tr>\n",
       "    <tr>\n",
       "      <th>9305</th>\n",
       "      <td>Home</td>\n",
       "      <td>Alone</td>\n",
       "      <td>Rainy</td>\n",
       "      <td>55</td>\n",
       "      <td>6PM</td>\n",
       "      <td>Bar</td>\n",
       "      <td>1d</td>\n",
       "      <td>Male</td>\n",
       "      <td>below21</td>\n",
       "      <td>Single</td>\n",
       "      <td>...</td>\n",
       "      <td>less1</td>\n",
       "      <td>1~3</td>\n",
       "      <td>4~8</td>\n",
       "      <td>4~8</td>\n",
       "      <td>1</td>\n",
       "      <td>1</td>\n",
       "      <td>1</td>\n",
       "      <td>0</td>\n",
       "      <td>1</td>\n",
       "      <td>1</td>\n",
       "    </tr>\n",
       "    <tr>\n",
       "      <th>1053</th>\n",
       "      <td>Work</td>\n",
       "      <td>Alone</td>\n",
       "      <td>Sunny</td>\n",
       "      <td>80</td>\n",
       "      <td>7AM</td>\n",
       "      <td>Carry out &amp; Take away</td>\n",
       "      <td>2h</td>\n",
       "      <td>Male</td>\n",
       "      <td>50plus</td>\n",
       "      <td>Unmarried partner</td>\n",
       "      <td>...</td>\n",
       "      <td>never</td>\n",
       "      <td>1~3</td>\n",
       "      <td>gt8</td>\n",
       "      <td>never</td>\n",
       "      <td>1</td>\n",
       "      <td>0</td>\n",
       "      <td>0</td>\n",
       "      <td>1</td>\n",
       "      <td>0</td>\n",
       "      <td>0</td>\n",
       "    </tr>\n",
       "    <tr>\n",
       "      <th>11583</th>\n",
       "      <td>Home</td>\n",
       "      <td>Alone</td>\n",
       "      <td>Sunny</td>\n",
       "      <td>80</td>\n",
       "      <td>6PM</td>\n",
       "      <td>Restaurant(20-50)</td>\n",
       "      <td>1d</td>\n",
       "      <td>Male</td>\n",
       "      <td>36</td>\n",
       "      <td>Unmarried partner</td>\n",
       "      <td>...</td>\n",
       "      <td>4~8</td>\n",
       "      <td>4~8</td>\n",
       "      <td>less1</td>\n",
       "      <td>less1</td>\n",
       "      <td>1</td>\n",
       "      <td>0</td>\n",
       "      <td>0</td>\n",
       "      <td>1</td>\n",
       "      <td>0</td>\n",
       "      <td>1</td>\n",
       "    </tr>\n",
       "    <tr>\n",
       "      <th>10356</th>\n",
       "      <td>Work</td>\n",
       "      <td>Alone</td>\n",
       "      <td>Sunny</td>\n",
       "      <td>80</td>\n",
       "      <td>7AM</td>\n",
       "      <td>Coffee House</td>\n",
       "      <td>1d</td>\n",
       "      <td>Male</td>\n",
       "      <td>21</td>\n",
       "      <td>Single</td>\n",
       "      <td>...</td>\n",
       "      <td>4~8</td>\n",
       "      <td>less1</td>\n",
       "      <td>never</td>\n",
       "      <td>never</td>\n",
       "      <td>1</td>\n",
       "      <td>0</td>\n",
       "      <td>0</td>\n",
       "      <td>1</td>\n",
       "      <td>0</td>\n",
       "      <td>1</td>\n",
       "    </tr>\n",
       "    <tr>\n",
       "      <th>6660</th>\n",
       "      <td>Home</td>\n",
       "      <td>Partner</td>\n",
       "      <td>Sunny</td>\n",
       "      <td>55</td>\n",
       "      <td>10PM</td>\n",
       "      <td>Bar</td>\n",
       "      <td>1d</td>\n",
       "      <td>Male</td>\n",
       "      <td>26</td>\n",
       "      <td>Unmarried partner</td>\n",
       "      <td>...</td>\n",
       "      <td>4~8</td>\n",
       "      <td>1~3</td>\n",
       "      <td>4~8</td>\n",
       "      <td>less1</td>\n",
       "      <td>1</td>\n",
       "      <td>0</td>\n",
       "      <td>0</td>\n",
       "      <td>0</td>\n",
       "      <td>1</td>\n",
       "      <td>1</td>\n",
       "    </tr>\n",
       "  </tbody>\n",
       "</table>\n",
       "<p>10 rows × 26 columns</p>\n",
       "</div>"
      ],
      "text/plain": [
       "           destination passanger weather  temperature  time  \\\n",
       "7169              Work     Alone   Rainy           55   7AM   \n",
       "9771              Work     Alone   Rainy           55   7AM   \n",
       "9066   No Urgent Place     Alone   Sunny           80  10AM   \n",
       "9412              Home     Alone   Sunny           30   6PM   \n",
       "8124   No Urgent Place     Alone   Sunny           80  10AM   \n",
       "9305              Home     Alone   Rainy           55   6PM   \n",
       "1053              Work     Alone   Sunny           80   7AM   \n",
       "11583             Home     Alone   Sunny           80   6PM   \n",
       "10356             Work     Alone   Sunny           80   7AM   \n",
       "6660              Home   Partner   Sunny           55  10PM   \n",
       "\n",
       "                      coupon expiration  gender      age      maritalStatus  \\\n",
       "7169         Restaurant(<20)         2h    Male       31    Married partner   \n",
       "9771                     Bar         1d  Female   50plus    Married partner   \n",
       "9066            Coffee House         2h  Female       26    Married partner   \n",
       "9412       Restaurant(20-50)         1d  Female   50plus           Divorced   \n",
       "8124            Coffee House         1d    Male       31             Single   \n",
       "9305                     Bar         1d    Male  below21             Single   \n",
       "1053   Carry out & Take away         2h    Male   50plus  Unmarried partner   \n",
       "11583      Restaurant(20-50)         1d    Male       36  Unmarried partner   \n",
       "10356           Coffee House         1d    Male       21             Single   \n",
       "6660                     Bar         1d    Male       26  Unmarried partner   \n",
       "\n",
       "       ...  CoffeeHouse CarryAway RestaurantLessThan20 Restaurant20To50  \\\n",
       "7169   ...        never       4~8                  4~8              1~3   \n",
       "9771   ...        less1       4~8                  1~3              1~3   \n",
       "9066   ...          1~3       4~8                  4~8            less1   \n",
       "9412   ...        never       4~8                  1~3            less1   \n",
       "8124   ...        never       gt8                  1~3            never   \n",
       "9305   ...        less1       1~3                  4~8              4~8   \n",
       "1053   ...        never       1~3                  gt8            never   \n",
       "11583  ...          4~8       4~8                less1            less1   \n",
       "10356  ...          4~8     less1                never            never   \n",
       "6660   ...          4~8       1~3                  4~8            less1   \n",
       "\n",
       "      toCoupon_GEQ5min toCoupon_GEQ15min toCoupon_GEQ25min direction_same  \\\n",
       "7169                 1                 1                 1              0   \n",
       "9771                 1                 1                 1              0   \n",
       "9066                 1                 1                 0              0   \n",
       "9412                 1                 0                 0              1   \n",
       "8124                 1                 1                 0              0   \n",
       "9305                 1                 1                 1              0   \n",
       "1053                 1                 0                 0              1   \n",
       "11583                1                 0                 0              1   \n",
       "10356                1                 0                 0              1   \n",
       "6660                 1                 0                 0              0   \n",
       "\n",
       "      direction_opp  Y  \n",
       "7169              1  1  \n",
       "9771              1  0  \n",
       "9066              1  1  \n",
       "9412              0  0  \n",
       "8124              1  0  \n",
       "9305              1  1  \n",
       "1053              0  0  \n",
       "11583             0  1  \n",
       "10356             0  1  \n",
       "6660              1  1  \n",
       "\n",
       "[10 rows x 26 columns]"
      ]
     },
     "execution_count": 748,
     "metadata": {},
     "output_type": "execute_result"
    }
   ],
   "source": [
    "data.sample(10)"
   ]
  },
  {
   "cell_type": "markdown",
   "metadata": {
    "id": "GcDs78ZH_qRH"
   },
   "source": [
    "2. Investigate the dataset for missing or problematic data."
   ]
  },
  {
   "cell_type": "code",
   "execution_count": 750,
   "metadata": {
    "id": "6CwL6oWj_qRH"
   },
   "outputs": [
    {
     "name": "stdout",
     "output_type": "stream",
     "text": [
      "<class 'pandas.core.frame.DataFrame'>\n",
      "RangeIndex: 12684 entries, 0 to 12683\n",
      "Data columns (total 26 columns):\n",
      " #   Column                Non-Null Count  Dtype \n",
      "---  ------                --------------  ----- \n",
      " 0   destination           12684 non-null  object\n",
      " 1   passanger             12684 non-null  object\n",
      " 2   weather               12684 non-null  object\n",
      " 3   temperature           12684 non-null  int64 \n",
      " 4   time                  12684 non-null  object\n",
      " 5   coupon                12684 non-null  object\n",
      " 6   expiration            12684 non-null  object\n",
      " 7   gender                12684 non-null  object\n",
      " 8   age                   12684 non-null  object\n",
      " 9   maritalStatus         12684 non-null  object\n",
      " 10  has_children          12684 non-null  int64 \n",
      " 11  education             12684 non-null  object\n",
      " 12  occupation            12684 non-null  object\n",
      " 13  income                12684 non-null  object\n",
      " 14  car                   108 non-null    object\n",
      " 15  Bar                   12577 non-null  object\n",
      " 16  CoffeeHouse           12467 non-null  object\n",
      " 17  CarryAway             12533 non-null  object\n",
      " 18  RestaurantLessThan20  12554 non-null  object\n",
      " 19  Restaurant20To50      12495 non-null  object\n",
      " 20  toCoupon_GEQ5min      12684 non-null  int64 \n",
      " 21  toCoupon_GEQ15min     12684 non-null  int64 \n",
      " 22  toCoupon_GEQ25min     12684 non-null  int64 \n",
      " 23  direction_same        12684 non-null  int64 \n",
      " 24  direction_opp         12684 non-null  int64 \n",
      " 25  Y                     12684 non-null  int64 \n",
      "dtypes: int64(8), object(18)\n",
      "memory usage: 2.5+ MB\n"
     ]
    }
   ],
   "source": [
    "# check column names and number of rows \n",
    "data.info()"
   ]
  },
  {
   "cell_type": "code",
   "execution_count": 751,
   "metadata": {},
   "outputs": [
    {
     "data": {
      "text/plain": [
       "destination             0.000000\n",
       "passanger               0.000000\n",
       "weather                 0.000000\n",
       "temperature             0.000000\n",
       "time                    0.000000\n",
       "coupon                  0.000000\n",
       "expiration              0.000000\n",
       "gender                  0.000000\n",
       "age                     0.000000\n",
       "maritalStatus           0.000000\n",
       "has_children            0.000000\n",
       "education               0.000000\n",
       "occupation              0.000000\n",
       "income                  0.000000\n",
       "car                     0.991485\n",
       "Bar                     0.008436\n",
       "CoffeeHouse             0.017108\n",
       "CarryAway               0.011905\n",
       "RestaurantLessThan20    0.010249\n",
       "Restaurant20To50        0.014901\n",
       "toCoupon_GEQ5min        0.000000\n",
       "toCoupon_GEQ15min       0.000000\n",
       "toCoupon_GEQ25min       0.000000\n",
       "direction_same          0.000000\n",
       "direction_opp           0.000000\n",
       "Y                       0.000000\n",
       "dtype: float64"
      ]
     },
     "execution_count": 751,
     "metadata": {},
     "output_type": "execute_result"
    }
   ],
   "source": [
    "# explore missing values as fraction of total rows\n",
    "data.isna().mean()"
   ]
  },
  {
   "cell_type": "code",
   "execution_count": 752,
   "metadata": {},
   "outputs": [
    {
     "data": {
      "text/html": [
       "<div>\n",
       "<style scoped>\n",
       "    .dataframe tbody tr th:only-of-type {\n",
       "        vertical-align: middle;\n",
       "    }\n",
       "\n",
       "    .dataframe tbody tr th {\n",
       "        vertical-align: top;\n",
       "    }\n",
       "\n",
       "    .dataframe thead th {\n",
       "        text-align: right;\n",
       "    }\n",
       "</style>\n",
       "<table border=\"1\" class=\"dataframe\">\n",
       "  <thead>\n",
       "    <tr style=\"text-align: right;\">\n",
       "      <th></th>\n",
       "      <th>temperature</th>\n",
       "      <th>has_children</th>\n",
       "      <th>toCoupon_GEQ5min</th>\n",
       "      <th>toCoupon_GEQ15min</th>\n",
       "      <th>toCoupon_GEQ25min</th>\n",
       "      <th>direction_same</th>\n",
       "      <th>direction_opp</th>\n",
       "      <th>Y</th>\n",
       "    </tr>\n",
       "  </thead>\n",
       "  <tbody>\n",
       "    <tr>\n",
       "      <th>count</th>\n",
       "      <td>12684.00</td>\n",
       "      <td>12684.00</td>\n",
       "      <td>12684.0</td>\n",
       "      <td>12684.00</td>\n",
       "      <td>12684.00</td>\n",
       "      <td>12684.00</td>\n",
       "      <td>12684.00</td>\n",
       "      <td>12684.00</td>\n",
       "    </tr>\n",
       "    <tr>\n",
       "      <th>mean</th>\n",
       "      <td>63.30</td>\n",
       "      <td>0.41</td>\n",
       "      <td>1.0</td>\n",
       "      <td>0.56</td>\n",
       "      <td>0.12</td>\n",
       "      <td>0.21</td>\n",
       "      <td>0.79</td>\n",
       "      <td>0.57</td>\n",
       "    </tr>\n",
       "    <tr>\n",
       "      <th>std</th>\n",
       "      <td>19.15</td>\n",
       "      <td>0.49</td>\n",
       "      <td>0.0</td>\n",
       "      <td>0.50</td>\n",
       "      <td>0.32</td>\n",
       "      <td>0.41</td>\n",
       "      <td>0.41</td>\n",
       "      <td>0.50</td>\n",
       "    </tr>\n",
       "    <tr>\n",
       "      <th>min</th>\n",
       "      <td>30.00</td>\n",
       "      <td>0.00</td>\n",
       "      <td>1.0</td>\n",
       "      <td>0.00</td>\n",
       "      <td>0.00</td>\n",
       "      <td>0.00</td>\n",
       "      <td>0.00</td>\n",
       "      <td>0.00</td>\n",
       "    </tr>\n",
       "    <tr>\n",
       "      <th>25%</th>\n",
       "      <td>55.00</td>\n",
       "      <td>0.00</td>\n",
       "      <td>1.0</td>\n",
       "      <td>0.00</td>\n",
       "      <td>0.00</td>\n",
       "      <td>0.00</td>\n",
       "      <td>1.00</td>\n",
       "      <td>0.00</td>\n",
       "    </tr>\n",
       "    <tr>\n",
       "      <th>50%</th>\n",
       "      <td>80.00</td>\n",
       "      <td>0.00</td>\n",
       "      <td>1.0</td>\n",
       "      <td>1.00</td>\n",
       "      <td>0.00</td>\n",
       "      <td>0.00</td>\n",
       "      <td>1.00</td>\n",
       "      <td>1.00</td>\n",
       "    </tr>\n",
       "    <tr>\n",
       "      <th>75%</th>\n",
       "      <td>80.00</td>\n",
       "      <td>1.00</td>\n",
       "      <td>1.0</td>\n",
       "      <td>1.00</td>\n",
       "      <td>0.00</td>\n",
       "      <td>0.00</td>\n",
       "      <td>1.00</td>\n",
       "      <td>1.00</td>\n",
       "    </tr>\n",
       "    <tr>\n",
       "      <th>max</th>\n",
       "      <td>80.00</td>\n",
       "      <td>1.00</td>\n",
       "      <td>1.0</td>\n",
       "      <td>1.00</td>\n",
       "      <td>1.00</td>\n",
       "      <td>1.00</td>\n",
       "      <td>1.00</td>\n",
       "      <td>1.00</td>\n",
       "    </tr>\n",
       "  </tbody>\n",
       "</table>\n",
       "</div>"
      ],
      "text/plain": [
       "       temperature  has_children  toCoupon_GEQ5min  toCoupon_GEQ15min  \\\n",
       "count     12684.00      12684.00           12684.0           12684.00   \n",
       "mean         63.30          0.41               1.0               0.56   \n",
       "std          19.15          0.49               0.0               0.50   \n",
       "min          30.00          0.00               1.0               0.00   \n",
       "25%          55.00          0.00               1.0               0.00   \n",
       "50%          80.00          0.00               1.0               1.00   \n",
       "75%          80.00          1.00               1.0               1.00   \n",
       "max          80.00          1.00               1.0               1.00   \n",
       "\n",
       "       toCoupon_GEQ25min  direction_same  direction_opp         Y  \n",
       "count           12684.00        12684.00       12684.00  12684.00  \n",
       "mean                0.12            0.21           0.79      0.57  \n",
       "std                 0.32            0.41           0.41      0.50  \n",
       "min                 0.00            0.00           0.00      0.00  \n",
       "25%                 0.00            0.00           1.00      0.00  \n",
       "50%                 0.00            0.00           1.00      1.00  \n",
       "75%                 0.00            0.00           1.00      1.00  \n",
       "max                 1.00            1.00           1.00      1.00  "
      ]
     },
     "execution_count": 752,
     "metadata": {},
     "output_type": "execute_result"
    }
   ],
   "source": [
    "# get descriptive statistics \n",
    "data.describe().round(2)"
   ]
  },
  {
   "cell_type": "markdown",
   "metadata": {
    "id": "bSdVSpYB_qRH"
   },
   "source": [
    "3. Decide what to do about your missing data -- drop, replace, other..."
   ]
  },
  {
   "cell_type": "code",
   "execution_count": 754,
   "metadata": {
    "id": "tyvoAC5F_qRI"
   },
   "outputs": [],
   "source": [
    "# car column has over 99% of its rows missing/null. This column in ineffective for analysis and should be excluded\n",
    "\n",
    "#remove car column \n",
    "data_clean = data.drop(\"car\", axis = 1)\n",
    "\n",
    "#rename passenger column name to correct spelling\n",
    "data_clean = data_clean.rename(columns={\"passanger\" :  \"passenger\"})"
   ]
  },
  {
   "cell_type": "code",
   "execution_count": 755,
   "metadata": {},
   "outputs": [
    {
     "data": {
      "text/plain": [
       "Bar    CoffeeHouse  CarryAway  RestaurantLessThan20  Restaurant20To50\n",
       "never  1~3          1~3        1~3                   1~3                 175\n",
       "                                                     less1               174\n",
       "less1  1~3          1~3        1~3                   less1               154\n",
       "       less1        gt8        4~8                   less1               154\n",
       "never  less1        4~8        1~3                   less1               127\n",
       "                                                                        ... \n",
       "       never        4~8        less1                 1~3                  17\n",
       "1~3    gt8          gt8        gt8                   gt8                  17\n",
       "less1  gt8          4~8        4~8                   4~8                  14\n",
       "never  4~8          less1      4~8                   less1                 6\n",
       "       1~3          4~8        gt8                   gt8                   6\n",
       "Name: count, Length: 313, dtype: int64"
      ]
     },
     "execution_count": 755,
     "metadata": {},
     "output_type": "execute_result"
    }
   ],
   "source": [
    "# The other 5 columns with missing values have under 1% of their values missing. They are all categorical attributes. \n",
    "# To remove the missing values, the rows with missing values can be deleted since they are a small fraction or they can be filled with the most frequent entry in the column. \n",
    "# Keeping the missing values as it is with no changes for now. \n",
    "data_clean[['Bar', 'CoffeeHouse', 'CarryAway', 'RestaurantLessThan20', 'Restaurant20To50']].value_counts()"
   ]
  },
  {
   "cell_type": "markdown",
   "metadata": {
    "id": "YE6oJbXd_qRI"
   },
   "source": [
    "4. What proportion of the total observations chose to accept the coupon?\n",
    "\n"
   ]
  },
  {
   "cell_type": "code",
   "execution_count": 757,
   "metadata": {
    "id": "86GGqBTv_qRI"
   },
   "outputs": [
    {
     "data": {
      "text/plain": [
       "Y\n",
       "1    0.568433\n",
       "0    0.431567\n",
       "Name: proportion, dtype: float64"
      ]
     },
     "execution_count": 757,
     "metadata": {},
     "output_type": "execute_result"
    }
   ],
   "source": [
    "# check on the propostion of customers responding yes to offer \n",
    "data_clean['Y'].value_counts(normalize=True)"
   ]
  },
  {
   "cell_type": "markdown",
   "metadata": {},
   "source": [
    "**57% of drivers accepted the coupon**"
   ]
  },
  {
   "cell_type": "markdown",
   "metadata": {
    "id": "vflz0DoE_qRI"
   },
   "source": [
    "5. Use a bar plot to visualize the `coupon` column."
   ]
  },
  {
   "cell_type": "code",
   "execution_count": 760,
   "metadata": {
    "id": "dHFh3E45_qRI",
    "scrolled": true
   },
   "outputs": [
    {
     "data": {
      "image/png": "[encoded data removed]",
      "text/plain": [
       "<Figure size 640x480 with 1 Axes>"
      ]
     },
     "metadata": {},
     "output_type": "display_data"
    }
   ],
   "source": [
    "# bar plot of coupon column\n",
    "sns.countplot(data_clean, x = \"coupon\")\n",
    "plt.title(\"Distribution of Coupon Types\")\n",
    "plt.xlabel(\"Coupon Type\")\n",
    "plt.xticks(rotation = 90)\n",
    "plt.ylabel(\"Count\");"
   ]
  },
  {
   "cell_type": "markdown",
   "metadata": {
    "id": "Qw4lCyx2_qRI"
   },
   "source": [
    "6. Use a histogram to visualize the temperature column."
   ]
  },
  {
   "cell_type": "code",
   "execution_count": 762,
   "metadata": {
    "id": "Yg9Anv71_qRI"
   },
   "outputs": [
    {
     "data": {
      "image/png": "[encoded data removed]",
      "text/plain": [
       "<Figure size 640x480 with 1 Axes>"
      ]
     },
     "metadata": {},
     "output_type": "display_data"
    }
   ],
   "source": [
    "# histogram of temperature column \n",
    "fig2 = data_clean['temperature'].plot(kind = \"hist\")\n",
    "fig2.set_title(\"Temperature Distribution\")\n",
    "fig2.set_xlabel(\"Temperature\");"
   ]
  },
  {
   "cell_type": "markdown",
   "metadata": {
    "id": "zLtOaJQk_qRI"
   },
   "source": [
    "7. Use a bar plot to visualize the age distribution."
   ]
  },
  {
   "cell_type": "code",
   "execution_count": 764,
   "metadata": {
    "id": "7GBHZKBp_qRJ"
   },
   "outputs": [
    {
     "data": {
      "image/png": "[encoded data removed]",
      "text/plain": [
       "<Figure size 640x480 with 1 Axes>"
      ]
     },
     "metadata": {},
     "output_type": "display_data"
    }
   ],
   "source": [
    "# age distrbution \n",
    "sns.barplot(data = data_clean['age'].value_counts(), order = [\"below21\", \"21\", \"31\", \"36\", \"41\", \"46\", \"50plus\"])\n",
    "plt.title(\"Number of drivers by age\")\n",
    "plt.xlabel(\"Age\")\n",
    "plt.ylabel(\"Count\");"
   ]
  },
  {
   "cell_type": "code",
   "execution_count": 765,
   "metadata": {
    "id": "Y5nBUA-j_qRJ"
   },
   "outputs": [
    {
     "data": {
      "image/png": "[encoded data removed]",
      "text/plain": [
       "<Figure size 640x480 with 1 Axes>"
      ]
     },
     "metadata": {},
     "output_type": "display_data"
    }
   ],
   "source": [
    "#analysis by weather and time of day \n",
    "data_wea_time = data_clean.groupby([\"weather\", \"time\"])[\"Y\"].value_counts(normalize = True).reset_index()\n",
    "sns.barplot(data = data_wea_time.query('Y == 1'), x = \"time\", y = \"proportion\", \n",
    "            hue = \"weather\", order = [\"7AM\", \"10AM\", \"2PM\", \"6PM\", \"10PM\"])\n",
    "plt.xlabel(\"Time of day\")\n",
    "plt.ylabel(\"Acceptance rate\");"
   ]
  },
  {
   "cell_type": "code",
   "execution_count": null,
   "metadata": {
    "id": "ShcUC-Vm_qRJ"
   },
   "outputs": [],
   "source": []
  },
  {
   "cell_type": "markdown",
   "metadata": {
    "id": "FupfgeJk_qRJ"
   },
   "source": [
    "**Investigating the Bar Coupons**\n",
    "\n",
    "Now, we will lead you through an exploration of just the bar related coupons.  \n",
    "\n",
    "1. Create a new `DataFrame` that contains just the bar coupons.\n"
   ]
  },
  {
   "cell_type": "code",
   "execution_count": 767,
   "metadata": {
    "id": "tMBlWuGq_qRJ"
   },
   "outputs": [],
   "source": [
    "data_bar = data_clean.query('coupon == \"Bar\"')"
   ]
  },
  {
   "cell_type": "markdown",
   "metadata": {
    "id": "8ue6uCqf_qRJ"
   },
   "source": [
    "2. What proportion of bar coupons were accepted?\n"
   ]
  },
  {
   "cell_type": "code",
   "execution_count": 769,
   "metadata": {
    "id": "hSdte8Mi_qRK"
   },
   "outputs": [
    {
     "data": {
      "text/plain": [
       "Y\n",
       "0    0.589985\n",
       "1    0.410015\n",
       "Name: proportion, dtype: float64"
      ]
     },
     "execution_count": 769,
     "metadata": {},
     "output_type": "execute_result"
    }
   ],
   "source": [
    "#proportion of coupons accepted for the customers with bar coupon \n",
    "data_bar[\"Y\"].value_counts(normalize = True)"
   ]
  },
  {
   "cell_type": "markdown",
   "metadata": {},
   "source": [
    "**41% of customers receiving the 'Bar' coupon accepted them**"
   ]
  },
  {
   "cell_type": "markdown",
   "metadata": {
    "id": "85nA_iEi_qRK"
   },
   "source": [
    "3. Compare the acceptance rate between those who went to a bar 3 or fewer times a month to those who went more.\n",
    "   "
   ]
  },
  {
   "cell_type": "code",
   "execution_count": 772,
   "metadata": {
    "id": "LBOrN-XM_qRK"
   },
   "outputs": [
    {
     "data": {
      "image/png": "[encoded data removed]",
      "text/plain": [
       "<Figure size 640x480 with 1 Axes>"
      ]
     },
     "metadata": {},
     "output_type": "display_data"
    }
   ],
   "source": [
    "#bar plot of the acceptance count of Bar categories. The Y axis shows acceptance rate (mean of 1/0 acceptance)\n",
    "sns.barplot(data = data_bar, x = \"Bar\", y=\"Y\", order=[\"never\", \"less1\", \"1~3\", \"4~8\", \"gt8\"])\n",
    "plt.xlabel(\"Bar visits per month\")\n",
    "plt.ylabel(\"Acceptance rate\");\n"
   ]
  },
  {
   "cell_type": "markdown",
   "metadata": {},
   "source": [
    "**The acceptance rate of customers with 3 or less bar visits per month is lower than those with greater than 3 visits per month**"
   ]
  },
  {
   "cell_type": "markdown",
   "metadata": {
    "id": "RBgcQwH4_qRK"
   },
   "source": [
    "4. Compare the acceptance rate between drivers who go to a bar more than once a month and are over the age of 25 to the all others.  Is there a difference?\n"
   ]
  },
  {
   "cell_type": "code",
   "execution_count": 775,
   "metadata": {
    "id": "bf28bbeX_qRK"
   },
   "outputs": [
    {
     "name": "stdout",
     "output_type": "stream",
     "text": [
      "Over age of 25: 0.71\n",
      "Under  age of 25: 0.65\n"
     ]
    },
    {
     "data": {
      "image/png": "[encoded data removed]",
      "text/plain": [
       "<Figure size 640x480 with 1 Axes>"
      ]
     },
     "metadata": {},
     "output_type": "display_data"
    }
   ],
   "source": [
    "#subset of who go to a bar more than once a month \n",
    "bar_more_than_1 = data_bar.query('Bar in [\"1~3\", \"4~8\", \"gt8\"]')\n",
    "# and age over 25 \n",
    "bar_visit_gt_age = bar_more_than_1.query('age in [\"26\", \"31\", \"41\", \"50plus\"]')[\"Y\"].mean().round(2)\n",
    "bar_visit_lt_age = bar_more_than_1.query('age not in [\"26\", \"31\", \"41\", \"50plus\"]')[\"Y\"].mean().round(2)\n",
    "#acceptance by age\n",
    "sns.barplot(bar_more_than_1, x = \"age\", y = \"Y\", order = [\"below21\", \"21\", \"26\", \"31\", \"41\", \"50plus\"]) \n",
    "plt.xlabel(\"Age\")\n",
    "plt.ylabel(\"Acceptance rate\");\n",
    "print(f\"Over age of 25: {bar_visit_gt_age}\")\n",
    "print(f\"Under  age of 25: {bar_visit_lt_age}\")"
   ]
  },
  {
   "cell_type": "markdown",
   "metadata": {},
   "source": [
    "**Drivers who go to a bar more than once a month and are above the age 25 have higher rate of acceptance(71%) than under 25(65%)**"
   ]
  },
  {
   "cell_type": "markdown",
   "metadata": {
    "id": "S4RKT4PJ_qRK"
   },
   "source": [
    "5. Use the same process to compare the acceptance rate between drivers who go to bars more than once a month and had passengers that were not a kid and had occupations other than farming, fishing, or forestry.\n"
   ]
  },
  {
   "cell_type": "code",
   "execution_count": 778,
   "metadata": {
    "id": "sENaI2Tg_qRK"
   },
   "outputs": [
    {
     "data": {
      "text/plain": [
       "<function print(*args, sep=' ', end='\\n', file=None, flush=False)>"
      ]
     },
     "execution_count": 778,
     "metadata": {},
     "output_type": "execute_result"
    }
   ],
   "source": [
    "print#(f\"Driver who go to bars more than once a month and had passengers that were not a kid and had occupations other than farming, fishing, or forestry: {bar_more_than_1.query('passenger not in [\"Kid(s)\"] & occupation not in [\"farming\", \"fishing\", \"forestry\"]')[\"Y\"].mean().round(2)}\")\n",
    "print#(f\"Others: {bar_more_than_1.query('passenger in [\"Kid(s)\"] & occupation in [\"farming\", \"fishing\", \"forestry\"]')[\"Y\"].mean().round(2)} \")"
   ]
  },
  {
   "cell_type": "markdown",
   "metadata": {},
   "source": [
    "# There are no occupations named farming, fishing or forestry"
   ]
  },
  {
   "cell_type": "markdown",
   "metadata": {
    "id": "n2LIUTil_qRK"
   },
   "source": [
    "6. Compare the acceptance rates between those drivers who:\n",
    "\n",
    "- go to bars more than once a month, had passengers that were not a kid, and were not widowed *OR*\n",
    "- go to bars more than once a month and are under the age of 30 *OR*\n",
    "- go to cheap restaurants more than 4 times a month and income is less than 50K.\n",
    "\n"
   ]
  },
  {
   "cell_type": "code",
   "execution_count": 781,
   "metadata": {
    "id": "aK_wEzx7_qRK"
   },
   "outputs": [
    {
     "name": "stdout",
     "output_type": "stream",
     "text": [
      "Acceptance of drivers who go to bars more than once a month, had passengers that were not a kid, and were not widowed: 0.71\n",
      "Acceptance of drivers who go to bars more than once a month and are under the age of 30: 0.72\n",
      "Acceptance of drivers who go to cheap restaurants more than 4 times a month and income is less than 50K: 0.45\n"
     ]
    }
   ],
   "source": [
    "#querying for conditions \n",
    "bar_pass = bar_more_than_1.query('passenger not in [\"Kid(s)\"] & maritalStatus not in [\"Widowed\"]')[\"Y\"].mean().round(2)\n",
    "bar_age = bar_more_than_1.query('age in [\"below21\", \"21\", \"26\"]')[\"Y\"].mean().round(2)\n",
    "bar_visit_inc = data_bar.query('RestaurantLessThan20 in [\"4~8\", \"gt8\"] & income in [\"Less than $12500\", \"$12500 - $24999\", \"$25000 - $37499\", \"$37500 - $49999\" ]')[\"Y\"].mean().round(2)\n",
    "\n",
    "print(f\"Acceptance of drivers who go to bars more than once a month, had passengers that were not a kid, and were not widowed: {bar_pass}\")\n",
    "print(f\"Acceptance of drivers who go to bars more than once a month and are under the age of 30: {bar_age}\" )\n",
    "print(f\"Acceptance of drivers who go to cheap restaurants more than 4 times a month and income is less than 50K: {bar_visit_inc}\")"
   ]
  },
  {
   "cell_type": "markdown",
   "metadata": {
    "id": "v3fL3QkO_qRK"
   },
   "source": [
    "7.  Based on these observations, what do you hypothesize about drivers who accepted the bar coupons?"
   ]
  },
  {
   "cell_type": "markdown",
   "metadata": {
    "id": "Y48naDFh_qRL"
   },
   "source": [
    "**Observations on drivers who received Bar coupons -**\n",
    "1. Overall 41% of the drivers accepted a Bar coupon, which is not very high.\n",
    "2. The acceptance rate of customers with 3 or less bar visits per month is lower than those with greater than 3 visits per month - **Focus on drivers who have higher visit to bar per month**\n",
    "3. Drivers who go to a bar more than once a month and are above the age 25 have higher rate of acceptance(71%) than under 25(65%). Especially, 21-30 year olds have the highest acceptance rate. - **Focus on drivers between 21 and 30 years**\n",
    "4. Drivers with no kids and not Widowed also have high acceptance rate 71% - **Focus on drivers when they are not traveling with their kids**\n",
    "5. Drivers who visit cheap restaurants more a lot and have low income are very less likely to accept the coupon - **Focus on greater than 50k income and drivers who do not frequent cheap restaurants moe than 4 times a month**"
   ]
  },
  {
   "cell_type": "markdown",
   "metadata": {
    "id": "r4Hu1zOb_qRL"
   },
   "source": [
    "### Independent Investigation\n",
    "\n",
    "Using the bar coupon example as motivation, you are to explore one of the other coupon groups and try to determine the characteristics of passengers who accept the coupons.  "
   ]
  },
  {
   "cell_type": "markdown",
   "metadata": {},
   "source": [
    "### Focusing on Carry out & Take away coupon group\n",
    "### Hypothesis - \n",
    "Overall, late afternoon is a good time to deliver a Carry out & Take away coupon. Drivers with kids in car and expiration 1d will have higher acceptance rate, while drivers alone will have higher acceptance rate in early mornings or late night and 2h expiration. Carry out and take away coupons will have higher accpetance for drivers who go to carry away greater than 3 times a month."
   ]
  },
  {
   "cell_type": "code",
   "execution_count": 787,
   "metadata": {},
   "outputs": [
    {
     "data": {
      "text/plain": [
       "Y\n",
       "1    0.735478\n",
       "0    0.264522\n",
       "Name: proportion, dtype: float64"
      ]
     },
     "execution_count": 787,
     "metadata": {},
     "output_type": "execute_result"
    }
   ],
   "source": [
    "# carry out and take away coupons only\n",
    "data_co = data_clean.query('coupon == \"Carry out & Take away\"')\n",
    "\n",
    "# overall carry out coupon acceptance\n",
    "data_co[\"Y\"].value_counts(normalize = True)"
   ]
  },
  {
   "cell_type": "markdown",
   "metadata": {
    "id": "QEsBkvIN_qRL"
   },
   "source": [
    "### Effect of Time of Day "
   ]
  },
  {
   "cell_type": "code",
   "execution_count": 789,
   "metadata": {
    "id": "RrqUWn7d_qRL"
   },
   "outputs": [
    {
     "data": {
      "image/png": "[encoded data removed]",
      "text/plain": [
       "<Figure size 640x480 with 1 Axes>"
      ]
     },
     "metadata": {},
     "output_type": "display_data"
    }
   ],
   "source": [
    "\n",
    "sns.barplot(data = data_co, x=\"time\", y = \"Y\", order=[\"7AM\", \"10AM\", \"2PM\", \"6PM\", \"10PM\"])\n",
    "plt.title(\"Effect of time of day on acceptance rate\")\n",
    "plt.xlabel(\"Time of day\")\n",
    "plt.ylabel(\"Acceptance rate\");"
   ]
  },
  {
   "cell_type": "markdown",
   "metadata": {},
   "source": [
    "**Acceptance rate for all Carry out & Take away coupons are higher than average in the late afternoon/evening times**"
   ]
  },
  {
   "cell_type": "code",
   "execution_count": 791,
   "metadata": {},
   "outputs": [
    {
     "data": {
      "text/html": [
       "<div>\n",
       "<style scoped>\n",
       "    .dataframe tbody tr th:only-of-type {\n",
       "        vertical-align: middle;\n",
       "    }\n",
       "\n",
       "    .dataframe tbody tr th {\n",
       "        vertical-align: top;\n",
       "    }\n",
       "\n",
       "    .dataframe thead th {\n",
       "        text-align: right;\n",
       "    }\n",
       "</style>\n",
       "<table border=\"1\" class=\"dataframe\">\n",
       "  <thead>\n",
       "    <tr style=\"text-align: right;\">\n",
       "      <th></th>\n",
       "      <th>passenger</th>\n",
       "      <th>time</th>\n",
       "      <th>expiration</th>\n",
       "      <th>count</th>\n",
       "      <th>sum</th>\n",
       "      <th>acceptance_rate</th>\n",
       "      <th>time_day_exp</th>\n",
       "    </tr>\n",
       "  </thead>\n",
       "  <tbody>\n",
       "    <tr>\n",
       "      <th>0</th>\n",
       "      <td>Alone</td>\n",
       "      <td>10AM</td>\n",
       "      <td>1d</td>\n",
       "      <td>38</td>\n",
       "      <td>35</td>\n",
       "      <td>0.921053</td>\n",
       "      <td>10AM-1d</td>\n",
       "    </tr>\n",
       "    <tr>\n",
       "      <th>7</th>\n",
       "      <td>Friend(s)</td>\n",
       "      <td>10AM</td>\n",
       "      <td>1d</td>\n",
       "      <td>87</td>\n",
       "      <td>64</td>\n",
       "      <td>0.735632</td>\n",
       "      <td>10AM-1d</td>\n",
       "    </tr>\n",
       "    <tr>\n",
       "      <th>12</th>\n",
       "      <td>Kid(s)</td>\n",
       "      <td>10AM</td>\n",
       "      <td>1d</td>\n",
       "      <td>24</td>\n",
       "      <td>19</td>\n",
       "      <td>0.791667</td>\n",
       "      <td>10AM-1d</td>\n",
       "    </tr>\n",
       "    <tr>\n",
       "      <th>8</th>\n",
       "      <td>Friend(s)</td>\n",
       "      <td>10AM</td>\n",
       "      <td>2h</td>\n",
       "      <td>271</td>\n",
       "      <td>175</td>\n",
       "      <td>0.645756</td>\n",
       "      <td>10AM-2h</td>\n",
       "    </tr>\n",
       "    <tr>\n",
       "      <th>13</th>\n",
       "      <td>Kid(s)</td>\n",
       "      <td>10AM</td>\n",
       "      <td>2h</td>\n",
       "      <td>65</td>\n",
       "      <td>48</td>\n",
       "      <td>0.738462</td>\n",
       "      <td>10AM-2h</td>\n",
       "    </tr>\n",
       "    <tr>\n",
       "      <th>17</th>\n",
       "      <td>Partner</td>\n",
       "      <td>10AM</td>\n",
       "      <td>2h</td>\n",
       "      <td>32</td>\n",
       "      <td>22</td>\n",
       "      <td>0.687500</td>\n",
       "      <td>10AM-2h</td>\n",
       "    </tr>\n",
       "    <tr>\n",
       "      <th>1</th>\n",
       "      <td>Alone</td>\n",
       "      <td>10PM</td>\n",
       "      <td>1d</td>\n",
       "      <td>223</td>\n",
       "      <td>176</td>\n",
       "      <td>0.789238</td>\n",
       "      <td>10PM-1d</td>\n",
       "    </tr>\n",
       "    <tr>\n",
       "      <th>9</th>\n",
       "      <td>Friend(s)</td>\n",
       "      <td>10PM</td>\n",
       "      <td>1d</td>\n",
       "      <td>177</td>\n",
       "      <td>139</td>\n",
       "      <td>0.785311</td>\n",
       "      <td>10PM-1d</td>\n",
       "    </tr>\n",
       "    <tr>\n",
       "      <th>18</th>\n",
       "      <td>Partner</td>\n",
       "      <td>10PM</td>\n",
       "      <td>1d</td>\n",
       "      <td>4</td>\n",
       "      <td>2</td>\n",
       "      <td>0.500000</td>\n",
       "      <td>10PM-1d</td>\n",
       "    </tr>\n",
       "    <tr>\n",
       "      <th>14</th>\n",
       "      <td>Kid(s)</td>\n",
       "      <td>10PM</td>\n",
       "      <td>2h</td>\n",
       "      <td>24</td>\n",
       "      <td>8</td>\n",
       "      <td>0.333333</td>\n",
       "      <td>10PM-2h</td>\n",
       "    </tr>\n",
       "    <tr>\n",
       "      <th>19</th>\n",
       "      <td>Partner</td>\n",
       "      <td>10PM</td>\n",
       "      <td>2h</td>\n",
       "      <td>33</td>\n",
       "      <td>25</td>\n",
       "      <td>0.757576</td>\n",
       "      <td>10PM-2h</td>\n",
       "    </tr>\n",
       "    <tr>\n",
       "      <th>10</th>\n",
       "      <td>Friend(s)</td>\n",
       "      <td>2PM</td>\n",
       "      <td>1d</td>\n",
       "      <td>181</td>\n",
       "      <td>161</td>\n",
       "      <td>0.889503</td>\n",
       "      <td>2PM-1d</td>\n",
       "    </tr>\n",
       "    <tr>\n",
       "      <th>2</th>\n",
       "      <td>Alone</td>\n",
       "      <td>2PM</td>\n",
       "      <td>2h</td>\n",
       "      <td>37</td>\n",
       "      <td>28</td>\n",
       "      <td>0.756757</td>\n",
       "      <td>2PM-2h</td>\n",
       "    </tr>\n",
       "    <tr>\n",
       "      <th>3</th>\n",
       "      <td>Alone</td>\n",
       "      <td>6PM</td>\n",
       "      <td>1d</td>\n",
       "      <td>173</td>\n",
       "      <td>143</td>\n",
       "      <td>0.826590</td>\n",
       "      <td>6PM-1d</td>\n",
       "    </tr>\n",
       "    <tr>\n",
       "      <th>11</th>\n",
       "      <td>Friend(s)</td>\n",
       "      <td>6PM</td>\n",
       "      <td>1d</td>\n",
       "      <td>23</td>\n",
       "      <td>21</td>\n",
       "      <td>0.913043</td>\n",
       "      <td>6PM-1d</td>\n",
       "    </tr>\n",
       "    <tr>\n",
       "      <th>15</th>\n",
       "      <td>Kid(s)</td>\n",
       "      <td>6PM</td>\n",
       "      <td>1d</td>\n",
       "      <td>6</td>\n",
       "      <td>6</td>\n",
       "      <td>1.000000</td>\n",
       "      <td>6PM-1d</td>\n",
       "    </tr>\n",
       "    <tr>\n",
       "      <th>20</th>\n",
       "      <td>Partner</td>\n",
       "      <td>6PM</td>\n",
       "      <td>1d</td>\n",
       "      <td>28</td>\n",
       "      <td>22</td>\n",
       "      <td>0.785714</td>\n",
       "      <td>6PM-1d</td>\n",
       "    </tr>\n",
       "    <tr>\n",
       "      <th>4</th>\n",
       "      <td>Alone</td>\n",
       "      <td>6PM</td>\n",
       "      <td>2h</td>\n",
       "      <td>172</td>\n",
       "      <td>141</td>\n",
       "      <td>0.819767</td>\n",
       "      <td>6PM-2h</td>\n",
       "    </tr>\n",
       "    <tr>\n",
       "      <th>16</th>\n",
       "      <td>Kid(s)</td>\n",
       "      <td>6PM</td>\n",
       "      <td>2h</td>\n",
       "      <td>33</td>\n",
       "      <td>26</td>\n",
       "      <td>0.787879</td>\n",
       "      <td>6PM-2h</td>\n",
       "    </tr>\n",
       "    <tr>\n",
       "      <th>5</th>\n",
       "      <td>Alone</td>\n",
       "      <td>7AM</td>\n",
       "      <td>1d</td>\n",
       "      <td>492</td>\n",
       "      <td>350</td>\n",
       "      <td>0.711382</td>\n",
       "      <td>7AM-1d</td>\n",
       "    </tr>\n",
       "    <tr>\n",
       "      <th>6</th>\n",
       "      <td>Alone</td>\n",
       "      <td>7AM</td>\n",
       "      <td>2h</td>\n",
       "      <td>270</td>\n",
       "      <td>149</td>\n",
       "      <td>0.551852</td>\n",
       "      <td>7AM-2h</td>\n",
       "    </tr>\n",
       "  </tbody>\n",
       "</table>\n",
       "</div>"
      ],
      "text/plain": [
       "    passenger  time expiration  count  sum  acceptance_rate time_day_exp\n",
       "0       Alone  10AM         1d     38   35         0.921053      10AM-1d\n",
       "7   Friend(s)  10AM         1d     87   64         0.735632      10AM-1d\n",
       "12     Kid(s)  10AM         1d     24   19         0.791667      10AM-1d\n",
       "8   Friend(s)  10AM         2h    271  175         0.645756      10AM-2h\n",
       "13     Kid(s)  10AM         2h     65   48         0.738462      10AM-2h\n",
       "17    Partner  10AM         2h     32   22         0.687500      10AM-2h\n",
       "1       Alone  10PM         1d    223  176         0.789238      10PM-1d\n",
       "9   Friend(s)  10PM         1d    177  139         0.785311      10PM-1d\n",
       "18    Partner  10PM         1d      4    2         0.500000      10PM-1d\n",
       "14     Kid(s)  10PM         2h     24    8         0.333333      10PM-2h\n",
       "19    Partner  10PM         2h     33   25         0.757576      10PM-2h\n",
       "10  Friend(s)   2PM         1d    181  161         0.889503       2PM-1d\n",
       "2       Alone   2PM         2h     37   28         0.756757       2PM-2h\n",
       "3       Alone   6PM         1d    173  143         0.826590       6PM-1d\n",
       "11  Friend(s)   6PM         1d     23   21         0.913043       6PM-1d\n",
       "15     Kid(s)   6PM         1d      6    6         1.000000       6PM-1d\n",
       "20    Partner   6PM         1d     28   22         0.785714       6PM-1d\n",
       "4       Alone   6PM         2h    172  141         0.819767       6PM-2h\n",
       "16     Kid(s)   6PM         2h     33   26         0.787879       6PM-2h\n",
       "5       Alone   7AM         1d    492  350         0.711382       7AM-1d\n",
       "6       Alone   7AM         2h    270  149         0.551852       7AM-2h"
      ]
     },
     "execution_count": 791,
     "metadata": {},
     "output_type": "execute_result"
    }
   ],
   "source": [
    "# group by passenger, time and direction_same  and calculate acceptance rate for each item\n",
    "data_grouped = data_co.groupby([\"passenger\", \"time\", \"expiration\"])[\"Y\"].agg(['count','sum']).reset_index()\n",
    "data_grouped[\"acceptance_rate\"] = data_grouped[\"sum\"]/data_grouped[\"count\"]\n",
    "\n",
    "#combine time and expiration column\n",
    "data_grouped[\"time_day_exp\"] = data_grouped[\"time\"]+ \"-\" + data_grouped[\"expiration\"]\n",
    "data_grouped = data_grouped.sort_values(by = [\"time\", \"expiration\"])\n",
    "data_grouped"
   ]
  },
  {
   "cell_type": "code",
   "execution_count": 792,
   "metadata": {},
   "outputs": [
    {
     "data": {
      "text/html": [
       "<div>\n",
       "<style scoped>\n",
       "    .dataframe tbody tr th:only-of-type {\n",
       "        vertical-align: middle;\n",
       "    }\n",
       "\n",
       "    .dataframe tbody tr th {\n",
       "        vertical-align: top;\n",
       "    }\n",
       "\n",
       "    .dataframe thead th {\n",
       "        text-align: right;\n",
       "    }\n",
       "</style>\n",
       "<table border=\"1\" class=\"dataframe\">\n",
       "  <thead>\n",
       "    <tr style=\"text-align: right;\">\n",
       "      <th>passenger</th>\n",
       "      <th>Alone</th>\n",
       "      <th>Friend(s)</th>\n",
       "      <th>Kid(s)</th>\n",
       "      <th>Partner</th>\n",
       "    </tr>\n",
       "    <tr>\n",
       "      <th>time_day_exp</th>\n",
       "      <th></th>\n",
       "      <th></th>\n",
       "      <th></th>\n",
       "      <th></th>\n",
       "    </tr>\n",
       "  </thead>\n",
       "  <tbody>\n",
       "    <tr>\n",
       "      <th>10AM-1d</th>\n",
       "      <td>0.921053</td>\n",
       "      <td>0.735632</td>\n",
       "      <td>0.791667</td>\n",
       "      <td>NaN</td>\n",
       "    </tr>\n",
       "    <tr>\n",
       "      <th>10AM-2h</th>\n",
       "      <td>NaN</td>\n",
       "      <td>0.645756</td>\n",
       "      <td>0.738462</td>\n",
       "      <td>0.687500</td>\n",
       "    </tr>\n",
       "    <tr>\n",
       "      <th>10PM-1d</th>\n",
       "      <td>0.789238</td>\n",
       "      <td>0.785311</td>\n",
       "      <td>NaN</td>\n",
       "      <td>0.500000</td>\n",
       "    </tr>\n",
       "    <tr>\n",
       "      <th>10PM-2h</th>\n",
       "      <td>NaN</td>\n",
       "      <td>NaN</td>\n",
       "      <td>0.333333</td>\n",
       "      <td>0.757576</td>\n",
       "    </tr>\n",
       "    <tr>\n",
       "      <th>2PM-1d</th>\n",
       "      <td>NaN</td>\n",
       "      <td>0.889503</td>\n",
       "      <td>NaN</td>\n",
       "      <td>NaN</td>\n",
       "    </tr>\n",
       "    <tr>\n",
       "      <th>2PM-2h</th>\n",
       "      <td>0.756757</td>\n",
       "      <td>NaN</td>\n",
       "      <td>NaN</td>\n",
       "      <td>NaN</td>\n",
       "    </tr>\n",
       "    <tr>\n",
       "      <th>6PM-1d</th>\n",
       "      <td>0.826590</td>\n",
       "      <td>0.913043</td>\n",
       "      <td>1.000000</td>\n",
       "      <td>0.785714</td>\n",
       "    </tr>\n",
       "    <tr>\n",
       "      <th>6PM-2h</th>\n",
       "      <td>0.819767</td>\n",
       "      <td>NaN</td>\n",
       "      <td>0.787879</td>\n",
       "      <td>NaN</td>\n",
       "    </tr>\n",
       "    <tr>\n",
       "      <th>7AM-1d</th>\n",
       "      <td>0.711382</td>\n",
       "      <td>NaN</td>\n",
       "      <td>NaN</td>\n",
       "      <td>NaN</td>\n",
       "    </tr>\n",
       "    <tr>\n",
       "      <th>7AM-2h</th>\n",
       "      <td>0.551852</td>\n",
       "      <td>NaN</td>\n",
       "      <td>NaN</td>\n",
       "      <td>NaN</td>\n",
       "    </tr>\n",
       "  </tbody>\n",
       "</table>\n",
       "</div>"
      ],
      "text/plain": [
       "passenger        Alone  Friend(s)    Kid(s)   Partner\n",
       "time_day_exp                                         \n",
       "10AM-1d       0.921053   0.735632  0.791667       NaN\n",
       "10AM-2h            NaN   0.645756  0.738462  0.687500\n",
       "10PM-1d       0.789238   0.785311       NaN  0.500000\n",
       "10PM-2h            NaN        NaN  0.333333  0.757576\n",
       "2PM-1d             NaN   0.889503       NaN       NaN\n",
       "2PM-2h        0.756757        NaN       NaN       NaN\n",
       "6PM-1d        0.826590   0.913043  1.000000  0.785714\n",
       "6PM-2h        0.819767        NaN  0.787879       NaN\n",
       "7AM-1d        0.711382        NaN       NaN       NaN\n",
       "7AM-2h        0.551852        NaN       NaN       NaN"
      ]
     },
     "execution_count": 792,
     "metadata": {},
     "output_type": "execute_result"
    }
   ],
   "source": [
    "#pivot on time\n",
    "data_pivot = data_grouped.pivot(index=\"time_day_exp\", columns=\"passenger\", values=\"acceptance_rate\")\n",
    "data_pivot"
   ]
  },
  {
   "cell_type": "code",
   "execution_count": 793,
   "metadata": {},
   "outputs": [
    {
     "data": {
      "image/png": "[encoded data removed]",
      "text/plain": [
       "<Figure size 800x600 with 2 Axes>"
      ]
     },
     "metadata": {},
     "output_type": "display_data"
    }
   ],
   "source": [
    "# see correlation between passenger and time of day with heatmap \n",
    "plt.figure(figsize=(8,6))\n",
    "sns.heatmap(data = data_pivot, annot = True, cmap=\"BuGn\", vmin=0);\n",
    "plt.title(\"Correlation of time of day, coupon expiration and passenger on acceptance\")\n",
    "plt.xlabel(\"Passenger\")\n",
    "plt.ylabel(\"Tiem of day/Expiration\");"
   ]
  },
  {
   "cell_type": "markdown",
   "metadata": {},
   "source": [
    "**Drivers with kids in the car are most likely to accept coupon around 6PM and with expiration of 1d, followed by morning time. Lowest for this group is late nights.** \n",
    "**Drivers alone are more likely to accept coupon late evening/night or around 10AM, irrespective of expiration. They are least likely to accept early morning(7AM)**"
   ]
  },
  {
   "cell_type": "code",
   "execution_count": 795,
   "metadata": {},
   "outputs": [
    {
     "data": {
      "image/png": "[encoded data removed]",
      "text/plain": [
       "<Figure size 640x480 with 1 Axes>"
      ]
     },
     "metadata": {},
     "output_type": "display_data"
    }
   ],
   "source": [
    "#analysis of acceptance against carryout behavior \n",
    "ax = sns.barplot(data = data_co, x = \"CarryAway\", y=\"Y\", order = [\"never\", \"less1\", \"1~3\", \"4~8\", \"gt8\"])\n",
    "ax.bar_label(ax.containers[0])\n",
    "ax.set_title(\"Effect of Carry away behavior on acceptance\")\n",
    "ax.set_ylabel(\"Acceptance rate\");"
   ]
  },
  {
   "cell_type": "markdown",
   "metadata": {},
   "source": [
    "**The carry away behavior per month does not have any conclusive relation to driver behavior in accepting the coupon. Drivers with Less than 1 visit per month have the lowest acceptance, but their is no apparent trend on visits per month on acceptance**"
   ]
  }
 ],
 "metadata": {
  "colab": {
   "provenance": []
  },
  "kernelspec": {
   "display_name": "Python 3 (ipykernel)",
   "language": "python",
   "name": "python3"
  },
  "language_info": {
   "codemirror_mode": {
    "name": "ipython",
    "version": 3
   },
   "file_extension": ".py",
   "mimetype": "text/x-python",
   "name": "python",
   "nbconvert_exporter": "python",
   "pygments_lexer": "ipython3",
   "version": "3.12.4"
  }
 },
 "nbformat": 4,
 "nbformat_minor": 4
}
